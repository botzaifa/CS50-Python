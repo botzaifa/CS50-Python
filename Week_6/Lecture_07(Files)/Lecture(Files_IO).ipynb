{
 "cells": [
  {
   "cell_type": "markdown",
   "id": "2dcd76c8",
   "metadata": {},
   "source": [
    "# Lists\n",
    "Note: Here the Output might not look the way it looks in VS Code"
   ]
  },
  {
   "cell_type": "code",
   "execution_count": 2,
   "id": "9f42571c",
   "metadata": {},
   "outputs": [
    {
     "name": "stdout",
     "output_type": "stream",
     "text": [
      "What is your name? huzaifa\n",
      "What is your name? khan\n",
      "What is your name? the\n",
      "['huzaifa', 'khan', 'the']\n",
      "['huzaifa', 'khan', 'the']\n",
      "['huzaifa', 'khan', 'the']\n"
     ]
    }
   ],
   "source": [
    "names = []\n",
    "\n",
    "for i in range(3):\n",
    "    names.append(input(\"What is your name? \"))\n",
    "    \n",
    "for name in names:\n",
    "    print(names)"
   ]
  },
  {
   "cell_type": "code",
   "execution_count": 4,
   "id": "72561c8c",
   "metadata": {},
   "outputs": [
    {
     "name": "stdout",
     "output_type": "stream",
     "text": [
      "What is your name? Hermione\n",
      "What is your name? Harry\n",
      "What is your name? Ron\n",
      "hello, ['Hermione', 'Harry', 'Ron']\n",
      "hello, ['Hermione', 'Harry', 'Ron']\n",
      "hello, ['Hermione', 'Harry', 'Ron']\n"
     ]
    }
   ],
   "source": [
    "names = []\n",
    "\n",
    "for _ in range(3):\n",
    "    names.append(input(\"What is your name? \"))\n",
    "    \n",
    "for name in sorted(names):\n",
    "    print(f\"hello, {names}\")"
   ]
  },
  {
   "cell_type": "markdown",
   "id": "b32438e7",
   "metadata": {},
   "source": [
    "# Open"
   ]
  },
  {
   "cell_type": "code",
   "execution_count": 12,
   "id": "c078bb6e",
   "metadata": {},
   "outputs": [
    {
     "name": "stdout",
     "output_type": "stream",
     "text": [
      "Whats your name? Ron\n"
     ]
    }
   ],
   "source": [
    "name = input(\"Whats your name? \")\n",
    "\n",
    "file = open(\"Names.txt\", \"w\") #using write\n",
    "file.write(name)\n",
    "file.close()"
   ]
  },
  {
   "cell_type": "code",
   "execution_count": 15,
   "id": "506be99a",
   "metadata": {},
   "outputs": [
    {
     "name": "stdout",
     "output_type": "stream",
     "text": [
      "Whats your name? Ron\n"
     ]
    }
   ],
   "source": [
    "name = input(\"Whats your name? \")\n",
    "\n",
    "file = open(\"Names_01.txt\", \"a\") #using append\n",
    "file.write(name)\n",
    "file.close()"
   ]
  },
  {
   "cell_type": "code",
   "execution_count": 18,
   "id": "cda6675b",
   "metadata": {},
   "outputs": [
    {
     "name": "stdout",
     "output_type": "stream",
     "text": [
      "Whats your name? Hermione\n"
     ]
    }
   ],
   "source": [
    "name = input(\"Whats your name? \")\n",
    "\n",
    "file = open(\"Names_02.txt\", \"a\") \n",
    "file.write(f\"{name}\\n\") #adding a new line each time\n",
    "file.close()"
   ]
  },
  {
   "cell_type": "markdown",
   "id": "8c096bb6",
   "metadata": {},
   "source": [
    "# With and Read"
   ]
  },
  {
   "cell_type": "code",
   "execution_count": 26,
   "id": "c0944efe",
   "metadata": {},
   "outputs": [
    {
     "name": "stdout",
     "output_type": "stream",
     "text": [
      "Whats your name? Draco\n"
     ]
    }
   ],
   "source": [
    "names = input(\"Whats your name? \")\n",
    "\n",
    "with open(\"Names_03.txt\", \"a\") as file: #using with as a loop\n",
    "    file.write(f\"{names}\\n\")"
   ]
  },
  {
   "cell_type": "code",
   "execution_count": 32,
   "id": "c1df5d09",
   "metadata": {},
   "outputs": [
    {
     "name": "stdout",
     "output_type": "stream",
     "text": [
      "hello, Harry\n",
      "\n",
      "hello, Ron\n",
      "\n",
      "hello, Hermione\n",
      "\n",
      "hello, Draco\n",
      "\n"
     ]
    }
   ],
   "source": [
    "with open(\"Names_03.txt\", \"r\") as file: #reading the files\n",
    "    for line in file:\n",
    "        print(\"hello,\", line)"
   ]
  },
  {
   "cell_type": "markdown",
   "id": "baa3e4b6",
   "metadata": {},
   "source": [
    "Note: When you just want to read the file there is no need of specifying \"r\" but writing it is just a good practice"
   ]
  },
  {
   "cell_type": "code",
   "execution_count": 30,
   "id": "6c0af726",
   "metadata": {},
   "outputs": [
    {
     "name": "stdout",
     "output_type": "stream",
     "text": [
      "hello, Harry\n",
      "hello, Ron\n",
      "hello, Hermione\n",
      "hello, Draco\n"
     ]
    }
   ],
   "source": [
    "with open(\"Names_03.txt\") as file:\n",
    "    for line in file:\n",
    "        print(\"hello,\", line.rstrip()) #using rstrip function to make the output look better"
   ]
  },
  {
   "cell_type": "markdown",
   "id": "5ca2e718",
   "metadata": {},
   "source": [
    "# Sorting"
   ]
  },
  {
   "cell_type": "code",
   "execution_count": 33,
   "id": "f287e578",
   "metadata": {},
   "outputs": [
    {
     "name": "stdout",
     "output_type": "stream",
     "text": [
      "hello, Draco\n",
      "hello, Harry\n",
      "hello, Hermione\n",
      "hello, Ron\n"
     ]
    }
   ],
   "source": [
    "names = []\n",
    "\n",
    "with open(\"Names_03.txt\") as file:\n",
    "    for line in file:\n",
    "        names.append(line.rstrip())\n",
    "\n",
    "for name in sorted(names):\n",
    "    print(f\"hello, {name}\")"
   ]
  },
  {
   "cell_type": "code",
   "execution_count": 35,
   "id": "7cbe737f",
   "metadata": {},
   "outputs": [
    {
     "name": "stdout",
     "output_type": "stream",
     "text": [
      "Hello, Draco\n",
      "Hello, Harry\n",
      "Hello, Hermione\n",
      "Hello, Ron\n"
     ]
    }
   ],
   "source": [
    "# A more clean method for sorting\n",
    "with open(\"Names_03.txt\") as file:\n",
    "    for line in sorted(file):\n",
    "        print(\"Hello,\",line.rstrip())"
   ]
  },
  {
   "cell_type": "code",
   "execution_count": 36,
   "id": "c47d2d2e",
   "metadata": {},
   "outputs": [
    {
     "name": "stdout",
     "output_type": "stream",
     "text": [
      "hello, Ron\n",
      "hello, Hermione\n",
      "hello, Harry\n",
      "hello, Draco\n"
     ]
    }
   ],
   "source": [
    "# Sorting in a reverse(descending) order\n",
    "names = []\n",
    "\n",
    "with open(\"Names_03.txt\") as file:\n",
    "    for line in file:\n",
    "        names.append(line.rstrip())\n",
    "\n",
    "for name in sorted(names, reverse = True):\n",
    "    print(f\"hello, {name}\")"
   ]
  },
  {
   "cell_type": "markdown",
   "id": "855ce05b",
   "metadata": {},
   "source": [
    "# Operations related to CSV files"
   ]
  },
  {
   "cell_type": "code",
   "execution_count": 39,
   "id": "e57bbf8e",
   "metadata": {},
   "outputs": [
    {
     "name": "stdout",
     "output_type": "stream",
     "text": [
      "Harry is in Gryffindor\n",
      "Ron is in Gryffindor\n",
      "Hermione is in Gryffindor\n",
      "Draco is in Slytherin\n"
     ]
    }
   ],
   "source": [
    "with open(\"students.csv\") as file:\n",
    "    for line in file:\n",
    "        row = line.rstrip().split(\",\")\n",
    "        print(f\"{row[0]} is in {row[1]}\")"
   ]
  },
  {
   "cell_type": "code",
   "execution_count": 40,
   "id": "770644df",
   "metadata": {},
   "outputs": [
    {
     "name": "stdout",
     "output_type": "stream",
     "text": [
      "Harry is in Gryffindor\n",
      "Ron is in Gryffindor\n",
      "Hermione is in Gryffindor\n",
      "Draco is in Slytherin\n"
     ]
    }
   ],
   "source": [
    "# Making it more redable\n",
    "with open(\"students.csv\") as file:\n",
    "    for line in file:\n",
    "        name, house = line.rstrip().split(\",\")\n",
    "        print(f\"{name} is in {house}\")"
   ]
  },
  {
   "cell_type": "code",
   "execution_count": 41,
   "id": "bf172c00",
   "metadata": {},
   "outputs": [
    {
     "name": "stdout",
     "output_type": "stream",
     "text": [
      "Draco is in Slytherin\n",
      "Harry is in Gryffindor\n",
      "Hermione is in Gryffindor\n",
      "Ron is in Gryffindor\n"
     ]
    }
   ],
   "source": [
    "# Sorting them\n",
    "students = []\n",
    "\n",
    "with open(\"students.csv\") as file:\n",
    "    for line in file:\n",
    "        name, house = line.rstrip().split(\",\")\n",
    "        students.append(f\"{name} is in {house}\")\n",
    "        \n",
    "for student in sorted(students):\n",
    "    print(student)"
   ]
  },
  {
   "cell_type": "code",
   "execution_count": 43,
   "id": "84ec84da",
   "metadata": {},
   "outputs": [
    {
     "name": "stdout",
     "output_type": "stream",
     "text": [
      "Harry is in Gryffindor\n",
      "Ron is in Gryffindor\n",
      "Hermione is in Gryffindor\n",
      "Draco is in Slytherin\n"
     ]
    }
   ],
   "source": [
    "students = []\n",
    "\n",
    "with open(\"students.csv\") as file:\n",
    "    for line in file:\n",
    "        name, house = line.rstrip().split(\",\")\n",
    "        student = {}\n",
    "        student[\"name\"] = name\n",
    "        student[\"house\"] = house\n",
    "        students.append(student)\n",
    "        \n",
    "for student in students:\n",
    "    print(f\"{student['name']} is in {student['house']}\")"
   ]
  },
  {
   "cell_type": "code",
   "execution_count": 44,
   "id": "4877a010",
   "metadata": {},
   "outputs": [
    {
     "name": "stdout",
     "output_type": "stream",
     "text": [
      "Draco is in Slytherin\n",
      "Harry is in Gryffindor\n",
      "Hermione is in Gryffindor\n",
      "Ron is in Gryffindor\n"
     ]
    }
   ],
   "source": [
    "students = []\n",
    "\n",
    "with open(\"students.csv\") as file:\n",
    "    for line in file:\n",
    "        name, house = line.rstrip().split(\",\")\n",
    "        student = {}\n",
    "        student[\"name\"] = name\n",
    "        student[\"house\"] = house\n",
    "        students.append(student)\n",
    "\n",
    "def get_name(student):\n",
    "    return student[\"name\"]\n",
    "        \n",
    "for student in sorted(students, key = get_name):\n",
    "    print(f\"{student['name']} is in {student['house']}\")"
   ]
  },
  {
   "cell_type": "code",
   "execution_count": 2,
   "id": "dc080e61",
   "metadata": {},
   "outputs": [
    {
     "name": "stdout",
     "output_type": "stream",
     "text": [
      "Ron is in Gryffindor\n",
      "Hermione is in Gryffindor\n",
      "Harry is in Gryffindor\n",
      "Draco is in Slytherin\n"
     ]
    }
   ],
   "source": [
    "# The reversed sorting\n",
    "students = []\n",
    "\n",
    "with open(\"students.csv\") as file:\n",
    "    for line in file:\n",
    "        name, house = line.rstrip().split(\",\")\n",
    "        student = {\"name\":name , \"house\":house} #another method\n",
    "        students.append(student)\n",
    "\n",
    "def get_name(student):\n",
    "    return student[\"name\"]\n",
    "        \n",
    "for student in sorted(students, key = get_name, reverse = True):\n",
    "    print(f\"{student['name']} is in {student['house']}\")"
   ]
  },
  {
   "cell_type": "markdown",
   "id": "2c2a8712",
   "metadata": {},
   "source": [
    "# Lamda Function"
   ]
  },
  {
   "cell_type": "code",
   "execution_count": 3,
   "id": "d8130603",
   "metadata": {},
   "outputs": [
    {
     "name": "stdout",
     "output_type": "stream",
     "text": [
      "Draco is in Slytherin\n",
      "Harry is in Gryffindor\n",
      "Hermione is in Gryffindor\n",
      "Ron is in Gryffindor\n"
     ]
    }
   ],
   "source": [
    "students = []\n",
    "\n",
    "with open(\"students.csv\") as file:\n",
    "    for line in file:\n",
    "        name, house = line.rstrip().split(\",\")\n",
    "        student = {\"name\":name , \"house\":house} \n",
    "        students.append(student)\n",
    "        \n",
    "for student in sorted(students, key = lambda student: student[\"name\"]): # lambda arguments : expression\n",
    "    print(f\"{student['name']} is in {student['house']}\")"
   ]
  },
  {
   "cell_type": "markdown",
   "id": "0adaae1c",
   "metadata": {},
   "source": [
    "# csv.reader"
   ]
  },
  {
   "cell_type": "code",
   "execution_count": 4,
   "id": "ea66aecd",
   "metadata": {},
   "outputs": [
    {
     "name": "stdout",
     "output_type": "stream",
     "text": [
      "Draco is in Slytherin\n",
      "Harry is in Slytherin\n",
      "Hermione is in Slytherin\n",
      "Ron is in Slytherin\n"
     ]
    }
   ],
   "source": [
    "import csv\n",
    "\n",
    "students = []\n",
    "\n",
    "with open(\"students.csv\") as file:\n",
    "    reader = csv.reader(file)\n",
    "    for name, home in reader:\n",
    "        students.append({\"name\":name , \"house\":house})\n",
    "        \n",
    "for student in sorted(students, key = lambda student: student[\"name\"]): \n",
    "    print(f\"{student['name']} is in {student['house']}\")"
   ]
  },
  {
   "cell_type": "markdown",
   "id": "af22626c",
   "metadata": {},
   "source": [
    "# csv.DictReader"
   ]
  },
  {
   "cell_type": "code",
   "execution_count": 10,
   "id": "d7614309",
   "metadata": {},
   "outputs": [
    {
     "name": "stdout",
     "output_type": "stream",
     "text": [
      "Draco is from Malfoy Manor\n",
      "Harry is from Number Four, Privet Drive\n",
      "Ron is from The Burrow\n"
     ]
    }
   ],
   "source": [
    "import csv\n",
    "\n",
    "students = []\n",
    "\n",
    "with open(\"students1.csv\") as file:\n",
    "    reader = csv.DictReader(file)\n",
    "    for row in reader:\n",
    "        students.append({\"name\":row[\"name\"] , \"home\":row[\"home\"]})\n",
    "        \n",
    "for student in sorted(students, key = lambda student: student[\"name\"]): \n",
    "    print(f\"{student['name']} is from {student['home']}\")"
   ]
  },
  {
   "cell_type": "code",
   "execution_count": 19,
   "id": "daf9a4d4",
   "metadata": {},
   "outputs": [
    {
     "name": "stdout",
     "output_type": "stream",
     "text": [
      "Draco is from Malfoy Manor\n",
      "Harry is from Number Four, Privet Drive\n",
      "Ron is from The Burrow\n"
     ]
    }
   ],
   "source": [
    "# Alternate method\n",
    "import csv\n",
    "\n",
    "students = []\n",
    "\n",
    "with open(\"students1.csv\") as file:\n",
    "    reader = csv.DictReader(file)\n",
    "    for row in reader:\n",
    "        students.append(row) # Just call row from the loop\n",
    "        \n",
    "for student in sorted(students, key = lambda student: student[\"name\"]): \n",
    "    print(f\"{student['name']} is from {student['home']}\")"
   ]
  },
  {
   "cell_type": "code",
   "execution_count": 11,
   "id": "f030a6c6",
   "metadata": {},
   "outputs": [
    {
     "name": "stdout",
     "output_type": "stream",
     "text": [
      "Draco is from Malfoy Manor\n",
      "Harry is from Number Four, Privet Drive\n",
      "Ron is from The Burrow\n"
     ]
    }
   ],
   "source": [
    "# Gives same output even if the columns in the csv file is reversed\n",
    "import csv\n",
    "\n",
    "students = []\n",
    "\n",
    "with open(\"students1.csv\") as file:\n",
    "    reader = csv.DictReader(file)\n",
    "    for row in reader:\n",
    "        students.append({\"name\":row[\"name\"] , \"home\":row[\"home\"]})\n",
    "        \n",
    "for student in sorted(students, key = lambda student: student[\"name\"]): \n",
    "    print(f\"{student['name']} is from {student['home']}\")"
   ]
  },
  {
   "cell_type": "markdown",
   "id": "b586c867",
   "metadata": {},
   "source": [
    "# csv.writer"
   ]
  },
  {
   "cell_type": "code",
   "execution_count": 14,
   "id": "76fe1a84",
   "metadata": {},
   "outputs": [
    {
     "name": "stdout",
     "output_type": "stream",
     "text": [
      "What is your name? Harry\n",
      "Where is your home? Number Four, Privet Drive\n"
     ]
    }
   ],
   "source": [
    "import csv\n",
    "\n",
    "name = input(\"What is your name? \")\n",
    "home = input(\"Where is your home? \")\n",
    "\n",
    "with open(\"students2.csv\", \"a\") as file:\n",
    "    writer = csv.writer(file)\n",
    "    writer.writerow([name, home])"
   ]
  },
  {
   "cell_type": "markdown",
   "id": "b88255ec",
   "metadata": {},
   "source": [
    "# csv.DictWriter"
   ]
  },
  {
   "cell_type": "code",
   "execution_count": 17,
   "id": "77183a40",
   "metadata": {},
   "outputs": [
    {
     "name": "stdout",
     "output_type": "stream",
     "text": [
      "What is your name? Draco\n",
      "Where is your home? Malfoy Manor\n"
     ]
    }
   ],
   "source": [
    "import csv\n",
    "\n",
    "name = input(\"What is your name? \")\n",
    "home = input(\"Where is your home? \")\n",
    "\n",
    "with open(\"students2.csv\", \"a\") as file:\n",
    "    writer = csv.DictWriter(file, fieldnames = [\"name\", \"home\"])\n",
    "    writer.writerow({\"name\":name, \"home\": home})\n",
    "#     writer.writerow({\"home\": home, \"name\":name}) #Even This will work since its stored in KnV pairs"
   ]
  },
  {
   "cell_type": "markdown",
   "id": "2263bbec",
   "metadata": {},
   "source": [
    "# Images, PIL library"
   ]
  },
  {
   "attachments": {
    "Screenshot%202024-02-25%20195820.png": {
     "image/png": "[encoded data removed]"
    }
   },
   "cell_type": "markdown",
   "id": "71cc4aa8",
   "metadata": {},
   "source": [
    "![Screenshot%202024-02-25%20195820.png](attachment:Screenshot%202024-02-25%20195820.png)"
   ]
  },
  {
   "cell_type": "code",
   "execution_count": null,
   "id": "3c944f6d",
   "metadata": {},
   "outputs": [],
   "source": []
  }
 ],
 "metadata": {
  "kernelspec": {
   "display_name": "Python 3 (ipykernel)",
   "language": "python",
   "name": "python3"
  },
  "language_info": {
   "codemirror_mode": {
    "name": "ipython",
    "version": 3
   },
   "file_extension": ".py",
   "mimetype": "text/x-python",
   "name": "python",
   "nbconvert_exporter": "python",
   "pygments_lexer": "ipython3",
   "version": "3.9.13"
  }
 },
 "nbformat": 4,
 "nbformat_minor": 5
}
